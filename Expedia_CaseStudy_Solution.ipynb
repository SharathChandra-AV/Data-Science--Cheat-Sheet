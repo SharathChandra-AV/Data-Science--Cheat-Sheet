{
  "nbformat": 4,
  "nbformat_minor": 0,
  "metadata": {
    "kernelspec": {
      "display_name": "Python 3",
      "language": "python",
      "name": "python3"
    },
    "language_info": {
      "codemirror_mode": {
        "name": "ipython",
        "version": 3
      },
      "file_extension": ".py",
      "mimetype": "text/x-python",
      "name": "python",
      "nbconvert_exporter": "python",
      "pygments_lexer": "ipython3",
      "version": "3.6.3"
    },
    "colab": {
      "name": "Expedia-CaseStudy-Solution.ipynb",
      "provenance": [],
      "collapsed_sections": [],
      "include_colab_link": true
    }
  },
  "cells": [
    {
      "cell_type": "markdown",
      "metadata": {
        "id": "view-in-github",
        "colab_type": "text"
      },
      "source": [
        "<a href=\"https://colab.research.google.com/github/SharathChandra-AV/Data-Science--Cheat-Sheet/blob/master/Expedia_CaseStudy_Solution.ipynb\" target=\"_parent\"><img src=\"https://colab.research.google.com/assets/colab-badge.svg\" alt=\"Open In Colab\"/></a>"
      ]
    },
    {
      "cell_type": "code",
      "metadata": {
        "id": "xVmHGyOVTqFd",
        "colab_type": "code",
        "colab": {}
      },
      "source": [
        "################## EXPEDIA ONLINE TEST ##############################################\n",
        "#Case study- Expedia Group Data Scientist role || Sharath\n",
        "#Rachit Chandra <rchandra@expediagroup.com>\n",
        "#Dec 13, 2019, 12:33 PM (3 days ago)\n",
        "#to me\n",
        "# Hi Sharath,\n",
        "# It was pleasure talking to you. As discussed sharing the case study with you.\n",
        "# Please complete this test. You have 48 hours to complete it :\n",
        "# Register on the following link:\n",
        "# https://www.kaggle.com/t/05d0aed2c4a34c4c88f29c24debfd9c6\n",
        "# Post which for the test – please access the following link\n",
        "# Kaggle: Your Home for Data Science\n",
        "#####################################################################################\n",
        "\n",
        "# In this task, we ask you to train a model that learns to rank properties.\n",
        "# Hotels.com travellers provide their trip information, like destination, holiday dates and number of people in the search.\n",
        "# Our search engine then returns a list of properties, ranked by their relevance to that traveller.\n",
        "# We provide you a data set with this travel information augmented by some features we have found to be predictive,\n",
        "# including search-level features like booking window (length of time between booking the trip and taking it), and \n",
        "# property-level features, like the country the property is in.\n",
        "# Please feel free to model with all, some or none of these, or create your own features.\n",
        "# The label in this data set is booking_bool, indicating whether this property was the one that was booked by the customer.\n",
        "# Please provide justification for your metric for this ranking task.\n",
        "\n",
        "################# VARIABLES ############################\n",
        "# srch_id: unique identifier for a search\n",
        "# visitor_id: visitor id used to submit the search\n",
        "# visitor_visit_nbr: count of visits for the user who has submitted the search\n",
        "# visitor_loc_country: country of the user who has submitted the search\n",
        "# visitor_loc_region: region of the user who has submitted the search\n",
        "# visitor_loc_city: city of the user who has submitted the search\n",
        "# visitor_wr_member: indicates if the user who has submitted the search is part of the hcom loyalty program\n",
        "# posa_continent: point of sale continent for a partiular search\n",
        "# posa_country: point of sale country for a particular search\n",
        "# srch_hcom_destination_id: destination id for a particular search\n",
        "# srch_dest_longitude: destination center longitude for a particular search\n",
        "# srch_dest_latitude: destination center latitude for a particular search\n",
        "# srch_ci: date of check-in of a search\n",
        "# srch_co: date of cehck-in of a search\n",
        "# srch_ci_day: day of check-in of a search\n",
        "# srch_co_day: day of check-out of a search\n",
        "# srch_los: length of stay of a search (check-in - check-out date)\n",
        "# srch_bw: booking window of a search (search-date - check-in date)\n",
        "# srch_adults_cnt: number of adults for a search\n",
        "# srch_children_cnt: number of children for a search\n",
        "# srch_rm_cnt: number of requested rooms on the search\n",
        "# mobile_bool: indicates if the search was submitted on a mobile browser\n",
        "# mobile_app: indicates if the search was submitted on a mobile app\n",
        "# device: identifies the device type type used for this search\n",
        "# currency: currency relevant for the point of sale the search was submitted form\n",
        "# travelad_bool: indicates if a porperty in a search was a paid advert\n",
        "# dotd_bool: indicates if a property in a search was advertised as a special \"daily deal\"\n",
        "# price_without_discount_local: discounted property price in local (posa specific) currency\n",
        "# price_without_discount_usd: discounted property price in USD\n",
        "# price_with_discount_local: non-discounted property price in local currency\n",
        "# price_with_discount_usd: non-discounted property price in USD\n",
        "# imp_drr: name of the pricing/discount rule relevant for this property\n",
        "# booking_bool: indicates if property has been booken in a given search\n",
        "# prop_key: unique property identifier\n",
        "# prop_brand_bool: indicates if a property has a popular brand\n",
        "# prop_starrating: conventional hotel star rating (1-5 Stars)\n",
        "# prop_super_region: the super region this property belongs to (EMEA, APAC, NA, LATAM)\n",
        "# prop_continent: continent this property is located on (Europe, North-America, South-America, ..... )\n",
        "# prop_country: country this property is located in\n",
        "# prop_market_id: higher granularity geo classification\n",
        "# prop_submarket_id: highest granularity geo classification\n",
        "# prop_room_capacity: max number of rooms this property has available\n",
        "# prop_review_score: average guest review score for this property\n",
        "# prop_review_count: count of customer reviews for this property\n",
        "# prop_hostel_bool: indicates if a property is a hostel\n",
        "# local_date: date for a particular search"
      ],
      "execution_count": 0,
      "outputs": []
    },
    {
      "cell_type": "code",
      "metadata": {
        "id": "v-2VUzxnTqFk",
        "colab_type": "code",
        "colab": {}
      },
      "source": [
        "import pandas as pd\n",
        "import numpy as np\n",
        "import matplotlib.pyplot as plt\n",
        "import seaborn as sns\n",
        "import string\n",
        "from datetime import datetime\n",
        "from scipy import stats\n",
        "from prettytable import PrettyTable\n",
        "\n",
        "from sklearn import preprocessing\n",
        "from sklearn.preprocessing import StandardScaler\n",
        "from sklearn.preprocessing import OneHotEncoder\n",
        "from sklearn.preprocessing import MinMaxScaler\n",
        "from sklearn.preprocessing import LabelEncoder\n",
        "from sklearn.preprocessing import Normalizer\n",
        " \n",
        "#import xgboost as xgb\n",
        "from sklearn.ensemble import RandomForestClassifier\n",
        "from sklearn.ensemble import AdaBoostClassifier\n",
        "\n",
        "from sklearn.feature_selection import SelectKBest\n",
        "from sklearn.feature_selection import chi2\n",
        "\n",
        "from sklearn.metrics import accuracy_score, auc, classification_report, confusion_matrix, f1_score, log_loss, roc_curve, precision_score, roc_auc_score"
      ],
      "execution_count": 0,
      "outputs": []
    },
    {
      "cell_type": "code",
      "metadata": {
        "id": "KX8x2w9-YnvM",
        "colab_type": "code",
        "colab": {}
      },
      "source": [
        "from pydrive.auth import GoogleAuth\n",
        "from pydrive.drive import GoogleDrive\n",
        "from google.colab import auth\n",
        "from oauth2client.client import GoogleCredentials"
      ],
      "execution_count": 0,
      "outputs": []
    },
    {
      "cell_type": "code",
      "metadata": {
        "id": "Ea60TL3vYu87",
        "colab_type": "code",
        "colab": {}
      },
      "source": [
        "# 1. Authenticate and create the PyDrive client.\n",
        "auth.authenticate_user()\n",
        "gauth = GoogleAuth()\n",
        "gauth.credentials = GoogleCredentials.get_application_default()\n",
        "drive = GoogleDrive(gauth)"
      ],
      "execution_count": 0,
      "outputs": []
    },
    {
      "cell_type": "code",
      "metadata": {
        "id": "R4Kg9ykxZJup",
        "colab_type": "code",
        "colab": {
          "base_uri": "https://localhost:8080/",
          "height": 272
        },
        "outputId": "8bc831a9-5d97-4ef4-9a35-4a0004f999f0"
      },
      "source": [
        "file_list = drive.ListFile({'q': \"'1_fTILE5VGpurrlaCmMbT6_dH7bfK7Oq2' in parents and trashed=false\"}).GetList()\n",
        "for file1 in file_list:\n",
        "  print('title: %s, id: %s' % (file1['title'], file1['id']))"
      ],
      "execution_count": 18,
      "outputs": [
        {
          "output_type": "stream",
          "text": [
            "title: train.csv.zip, id: 1v1AqiEUpV6gle6YLsaYbJx3bXuG2E9k1\n",
            "title: train.csv, id: 1W0ly7KFHplzIwdAaJ0SptELjJsOkMpq0\n",
            "title: train (1).csv, id: 1WNYX3VP_A1F3g7-iYjRMsVhjx3lWvlXC\n",
            "title: test.csv.zip, id: 1ukKdYhSfJSHgg51XdZ7xYZ0FPXqYmjtR\n",
            "title: test.csv, id: 1NL2UDBGlgCFnedIsfQNf5-FDD-HFx6H_\n",
            "title: test (1).csv, id: 17UA6-El0j7CSyeWHqhusKoRjr8Bgz6ia\n",
            "title: submission.csv, id: 15ZHNu_nLIdbGXrKDdAigflBJtn7Yjc2q\n",
            "title: submission (2).csv, id: 18aHVTU8MAaH-XujqBUY97FNA-zyN3crw\n",
            "title: solution.csv, id: 12AihSeAD0Q_myLrmpKbWSqO10QwSz94O\n",
            "title: popSub.csv, id: 13s-_JMIoesKH9VWWcUwot6sBSJosazO5\n",
            "title: ExampleSubmission.csv, id: 13jYMi39kHaoKhf3UGxiLPr10zVIuYzA6\n",
            "title: a_train.csv, id: 1Dp5f0LAeDp5yHOtWSSAUfV9HphxpLPUQ\n",
            "title: a_test.csv, id: 1RyeEARWG8SXN2B64KB5aabi2b9IAWpll\n",
            "title: a_submission.csv, id: 1nhpRqF5i7Ot_ozrVskmO_MrYA6guyW6Y\n",
            "title: a_solution.csv, id: 1KwBaJ51IMVHC_4WGVglMlwAesM65nsrN\n"
          ],
          "name": "stdout"
        }
      ]
    },
    {
      "cell_type": "code",
      "metadata": {
        "id": "UfSPXjjsTqFp",
        "colab_type": "code",
        "colab": {}
      },
      "source": [
        "filepath = \"C:\\\\Expedia\\\\sortranking\\\\\"\n",
        "inputfile = \"train.csv\""
      ],
      "execution_count": 0,
      "outputs": []
    },
    {
      "cell_type": "code",
      "metadata": {
        "id": "Wsu__XwoTqFu",
        "colab_type": "code",
        "colab": {}
      },
      "source": [
        "train_downloaded = drive.CreateFile({'id': '1W0ly7KFHplzIwdAaJ0SptELjJsOkMpq0'})\n",
        "train_downloaded.GetContentFile('train.csv')\n",
        "input = pd.read_csv('train.csv')"
      ],
      "execution_count": 0,
      "outputs": []
    },
    {
      "cell_type": "code",
      "metadata": {
        "id": "LyQ0cXPmTqF0",
        "colab_type": "code",
        "colab": {
          "base_uri": "https://localhost:8080/",
          "height": 51
        },
        "outputId": "bdc80277-7623-4298-fc09-50ae5a8a0e29"
      },
      "source": [
        "t = PrettyTable()\n",
        "t.title = 'Expedia Train File'\n",
        "t.field_names = ['Col','Type','TotalValCnt','UniqueValCnt','NullValCnt','Reqd4Anlys?']\n",
        "print(input.shape)\n",
        "for i in input.columns:\n",
        "    bReqd = True\n",
        "    if((input[i].nunique() == 1) |  (((sum(pd.isnull(input[i])))/((input.shape[0])*100)) > 90)):\n",
        "        bReqd = False\n",
        "    t.add_row([i, input[i].dtype, input[i].value_counts().sum(), input[i].nunique(), sum(pd.isnull(input[i])), bReqd])\n",
        "t"
      ],
      "execution_count": 22,
      "outputs": [
        {
          "output_type": "stream",
          "text": [
            "(844240, 50)\n"
          ],
          "name": "stdout"
        },
        {
          "output_type": "execute_result",
          "data": {
            "text/plain": [
              "<prettytable.PrettyTable at 0x7fc4e58aab70>"
            ]
          },
          "metadata": {
            "tags": []
          },
          "execution_count": 22
        }
      ]
    },
    {
      "cell_type": "code",
      "metadata": {
        "id": "kFR8vOdgTqF3",
        "colab_type": "code",
        "colab": {},
        "outputId": "bb70416e-a68c-4c7a-daeb-2e913eec2990"
      },
      "source": [
        "print(t)"
      ],
      "execution_count": 0,
      "outputs": [
        {
          "output_type": "stream",
          "text": [
            "+-----------------------------------+---------+-------------+--------------+------------+-------------+\n",
            "|                Col                |   Type  | TotalValCnt | UniqueValCnt | NullValCnt | Reqd4Anlys? |\n",
            "+-----------------------------------+---------+-------------+--------------+------------+-------------+\n",
            "|              srch_id              |  int64  |    844240   |    23791     |     0      |     True    |\n",
            "|           srch_date_time          |  object |    844240   |    23649     |     0      |     True    |\n",
            "|          srch_visitor_id          |  object |    844240   |    22894     |     0      |     True    |\n",
            "|       srch_visitor_visit_nbr      |  int64  |    844240   |     266      |     0      |     True    |\n",
            "|      srch_visitor_loc_country     |  object |    844240   |     154      |     0      |     True    |\n",
            "|      srch_visitor_loc_region      |  object |    844130   |     598      |    110     |     True    |\n",
            "|       srch_visitor_loc_city       |  object |    844240   |     5098     |     0      |     True    |\n",
            "|       srch_visitor_wr_member      |  object |    400575   |      9       |   443665   |     True    |\n",
            "|        srch_posa_continent        |  object |    355877   |      4       |   488363   |     True    |\n",
            "|         srch_posa_country         |  object |    844240   |      66      |     0      |     True    |\n",
            "|      srch_hcom_destination_id     |  int64  |    844240   |      10      |     0      |     True    |\n",
            "|        srch_dest_longitude        | float64 |    844240   |      10      |     0      |     True    |\n",
            "|         srch_dest_latitude        | float64 |    844240   |      10      |     0      |     True    |\n",
            "|              srch_ci              |  object |    844240   |     381      |     0      |     True    |\n",
            "|              srch_co              |  object |    844240   |     379      |     0      |     True    |\n",
            "|            srch_ci_day            |  int64  |    844240   |      7       |     0      |     True    |\n",
            "|            srch_co_day            |  int64  |    844240   |      7       |     0      |     True    |\n",
            "|              srch_los             |  int64  |    844240   |      26      |     0      |     True    |\n",
            "|              srch_bw              |  int64  |    844240   |     378      |     0      |     True    |\n",
            "|          srch_adults_cnt          | float64 |    844222   |      18      |     18     |     True    |\n",
            "|         srch_children_cnt         | float64 |    844222   |      10      |     18     |     True    |\n",
            "|            srch_rm_cnt            |  int64  |    844240   |      8       |     0      |     True    |\n",
            "|          srch_mobile_bool         |  int64  |    844240   |      2       |     0      |     True    |\n",
            "|          srch_mobile_app          |  int64  |    844240   |      1       |     0      |    False    |\n",
            "|            srch_device            |  object |    844240   |      3       |     0      |     True    |\n",
            "|           srch_currency           |  object |    712082   |      49      |   132158   |     True    |\n",
            "|         prop_travelad_bool        |  int64  |    844240   |      2       |     0      |     True    |\n",
            "|           prop_dotd_bool          |  int64  |    844240   |      2       |     0      |     True    |\n",
            "| prop_price_without_discount_local | float64 |    844202   |    40095     |     38     |     True    |\n",
            "|  prop_price_without_discount_usd  | float64 |    844202   |    74671     |     38     |     True    |\n",
            "|   prop_price_with_discount_local  | float64 |    844202   |    37331     |     38     |     True    |\n",
            "|    prop_price_with_discount_usd   | float64 |    844202   |    59115     |     38     |     True    |\n",
            "|            prop_imp_drr           |  int64  |    844240   |      2       |     0      |     True    |\n",
            "|          prop_click_bool          |  int64  |    844240   |      2       |     0      |     True    |\n",
            "|        prop_click_datetime        |  object |    36467    |    35938     |   807773   |     True    |\n",
            "|         prop_booking_bool         |  int64  |    844240   |      2       |     0      |     True    |\n",
            "|       prop_booking_datetime       |  object |    23791    |    23658     |   820449   |     True    |\n",
            "|              prop_key             |  int64  |    844240   |     6300     |     0      |     True    |\n",
            "|          prop_brand_bool          |  int64  |    844240   |      2       |     0      |     True    |\n",
            "|          prop_starrating          | float64 |    844240   |      10      |     0      |     True    |\n",
            "|         prop_super_region         |  object |    844240   |      4       |     0      |     True    |\n",
            "|           prop_continent          |  object |    844240   |      4       |     0      |     True    |\n",
            "|            prop_country           |  object |    844240   |      8       |     0      |     True    |\n",
            "|           prop_market_id          |  int64  |    844240   |      53      |     0      |     True    |\n",
            "|         prop_submarket_id         |  int64  |    844240   |     283      |     0      |     True    |\n",
            "|         prop_room_capacity        |  int64  |    844240   |     694      |     0      |     True    |\n",
            "|         prop_review_score         | float64 |    844227   |     3851     |     13     |     True    |\n",
            "|         prop_review_count         | float64 |    844227   |     4625     |     13     |     True    |\n",
            "|          prop_hostel_bool         |  int64  |    844240   |      2       |     0      |     True    |\n",
            "|          srch_local_date          |  object |    844240   |      28      |     0      |     True    |\n",
            "+-----------------------------------+---------+-------------+--------------+------------+-------------+\n"
          ],
          "name": "stdout"
        }
      ]
    },
    {
      "cell_type": "code",
      "metadata": {
        "id": "pHIp8_JDTqF6",
        "colab_type": "code",
        "colab": {}
      },
      "source": [
        "# Drop the variable which are not relevant from the above observations\n",
        "input.drop('srch_mobile_app', axis=1, inplace=True)"
      ],
      "execution_count": 0,
      "outputs": []
    },
    {
      "cell_type": "code",
      "metadata": {
        "scrolled": true,
        "id": "THdUZBroTqF-",
        "colab_type": "code",
        "colab": {}
      },
      "source": [
        "# numericcols = []\n",
        "# for i in input.columns:\n",
        "#     if ( (input[i].dtype=='float64')):\n",
        "#         numericcols.append(i)\n",
        "# input_n = input[numericcols]\n",
        "# input_n.plot(kind='box', figsize=[16,8])"
      ],
      "execution_count": 0,
      "outputs": []
    },
    {
      "cell_type": "code",
      "metadata": {
        "id": "zpZqeCVkTqGB",
        "colab_type": "code",
        "colab": {
          "base_uri": "https://localhost:8080/",
          "height": 295
        },
        "outputId": "782db0c2-3391-45d5-8d14-719775b28688"
      },
      "source": [
        "# Impute the 'srch_adults_cnt' column....\n",
        "print(input['srch_adults_cnt'].value_counts().idxmax())\n",
        "fig,ax = plt.subplots()\n",
        "input['srch_adults_cnt'].value_counts().plot(ax=ax, kind='bar');\n",
        "plt.show()\n",
        "input['srch_adults_cnt'].fillna(input['srch_adults_cnt'].value_counts().idxmax(), inplace=True)"
      ],
      "execution_count": 24,
      "outputs": [
        {
          "output_type": "stream",
          "text": [
            "2.0\n"
          ],
          "name": "stdout"
        },
        {
          "output_type": "display_data",
          "data": {
            "image/png": "[encoded data removed]",
            "text/plain": [
              "<Figure size 432x288 with 1 Axes>"
            ]
          },
          "metadata": {
            "tags": []
          }
        }
      ]
    },
    {
      "cell_type": "code",
      "metadata": {
        "id": "YuKvwnnuTqGE",
        "colab_type": "code",
        "colab": {
          "base_uri": "https://localhost:8080/",
          "height": 298
        },
        "outputId": "aaad8f3f-132a-4258-9d2c-0f8078b9bf2b"
      },
      "source": [
        "print(input['srch_children_cnt'].value_counts().idxmax())\n",
        "fig,ax = plt.subplots()\n",
        "input['srch_children_cnt'].value_counts().plot(ax=ax, kind='bar');\n",
        "plt.show()\n",
        "input['srch_children_cnt'].fillna(input['srch_children_cnt'].value_counts().idxmax(), inplace=True)"
      ],
      "execution_count": 25,
      "outputs": [
        {
          "output_type": "stream",
          "text": [
            "0.0\n"
          ],
          "name": "stdout"
        },
        {
          "output_type": "display_data",
          "data": {
            "image/png": "[encoded data removed]",
            "text/plain": [
              "<Figure size 432x288 with 1 Axes>"
            ]
          },
          "metadata": {
            "tags": []
          }
        }
      ]
    },
    {
      "cell_type": "code",
      "metadata": {
        "id": "MSoAYY8yTqGH",
        "colab_type": "code",
        "colab": {
          "base_uri": "https://localhost:8080/",
          "height": 514
        },
        "outputId": "8c1f2c57-ceb0-49d2-8376-dfb54212e660"
      },
      "source": [
        "# Impute the 'srch_adults_cnt' column....\n",
        "print(input['srch_currency'].value_counts().idxmax())\n",
        "fig,ax = plt.subplots()\n",
        "input['srch_currency'].value_counts().plot(ax=ax, kind='bar', figsize=[16,8]);\n",
        "plt.show()\n",
        "input['srch_currency'].fillna(input['srch_adults_cnt'].value_counts().idxmax(), inplace=True)"
      ],
      "execution_count": 26,
      "outputs": [
        {
          "output_type": "stream",
          "text": [
            "USD\n"
          ],
          "name": "stdout"
        },
        {
          "output_type": "display_data",
          "data": {
            "image/png": "[encoded data removed]",
            "text/plain": [
              "<Figure size 1152x576 with 1 Axes>"
            ]
          },
          "metadata": {
            "tags": []
          }
        }
      ]
    },
    {
      "cell_type": "code",
      "metadata": {
        "id": "W3vTzCdhTqGK",
        "colab_type": "code",
        "colab": {}
      },
      "source": [
        ""
      ],
      "execution_count": 0,
      "outputs": []
    }
  ]
}